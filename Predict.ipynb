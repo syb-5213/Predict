{
 "cells": [
  {
   "cell_type": "markdown",
   "metadata": {},
   "source": [
    "# 代码仓库：https://github.com/syb-5213/Predict\n",
    "### 选题：Hotel booking demand, 酒店预订需求"
   ]
  },
  {
   "cell_type": "code",
   "execution_count": 1,
   "metadata": {},
   "outputs": [],
   "source": [
    "import pandas as pd\n",
    "import numpy as np\n",
    "import matplotlib.pyplot as plt\n",
    "from sklearn.linear_model import LogisticRegression\n",
    "from sklearn.preprocessing import LabelEncoder\n",
    "from sklearn.preprocessing import OneHotEncoder"
   ]
  },
  {
   "cell_type": "code",
   "execution_count": 2,
   "metadata": {},
   "outputs": [
    {
     "name": "stdout",
     "output_type": "stream",
     "text": [
      "读取数据中...\n",
      "读取完毕。\n"
     ]
    }
   ],
   "source": [
    "print(\"读取数据中...\")\n",
    "data = pd.read_csv('hotel_bookings.csv')\n",
    "print(\"读取完毕。\")"
   ]
  },
  {
   "cell_type": "markdown",
   "metadata": {},
   "source": [
    "# 1.基本情况：城市酒店和假日酒店预订需求和入住率比较；"
   ]
  },
  {
   "cell_type": "code",
   "execution_count": 4,
   "metadata": {},
   "outputs": [
    {
     "name": "stdout",
     "output_type": "stream",
     "text": [
      "度假酒店预订订单数为40060个,取消订单数为11122个,最终预定单数为28938个。\n",
      "城市酒店预订订单数为79330个,取消订单数为33102个,最终预定单数为46228个。\n",
      "度假酒店的入住率为72.24%.\n",
      "城市酒店的入住率为58.27%.\n"
     ]
    }
   ],
   "source": [
    "Resort_Hotel=data[data['hotel'].isin([\"Resort Hotel\"])]\n",
    "City_Hotel=data[data['hotel'].isin([\"City Hotel\"])]\n",
    "Resort_Hotel_cancel=len(Resort_Hotel[Resort_Hotel['is_canceled'].isin([1])])\n",
    "City_Hotel_cancel=len(City_Hotel[City_Hotel['is_canceled'].isin([1])])\n",
    "print(\"度假酒店预订订单数为\"+str(len(Resort_Hotel))+\"个,取消订单数为\"+str(Resort_Hotel_cancel)+\"个,最终预定单数为\"+str(len(Resort_Hotel)-Resort_Hotel_cancel)+\"个。\")\n",
    "print(\"城市酒店预订订单数为\"+str(len(City_Hotel))+\"个,取消订单数为\"+str(City_Hotel_cancel)+\"个,最终预定单数为\"+str(len(City_Hotel)-City_Hotel_cancel)+\"个。\")\n",
    "print(\"度假酒店的入住率为\"+str(round((len(Resort_Hotel)-Resort_Hotel_cancel)/len(Resort_Hotel)*100,2))+\"%.\")\n",
    "print(\"城市酒店的入住率为\"+str(round((len(City_Hotel)-City_Hotel_cancel)/len(City_Hotel)*100,2))+\"%.\")"
   ]
  },
  {
   "cell_type": "markdown",
   "metadata": {},
   "source": [
    "由预定酒店结果可以看出，城市酒店的预定需求明显高于度假酒店,而反观两种酒店的入住率，度假酒店明显优于城市酒店，说明了城市酒店虽然预定需求量大，但临时变动的情况较多，人们有更大的可能性变更计划，而选择度假的人们往往不会更改自己的计划。"
   ]
  },
  {
   "cell_type": "markdown",
   "metadata": {},
   "source": [
    "# 2.用户行为：提前预订时间、入住时长、预订间隔、餐食预订情况；"
   ]
  },
  {
   "cell_type": "markdown",
   "metadata": {},
   "source": [
    "## 2.1提前预订时间统计"
   ]
  },
  {
   "cell_type": "markdown",
   "metadata": {},
   "source": [
    "### 2.1.1度假酒店"
   ]
  },
  {
   "cell_type": "markdown",
   "metadata": {},
   "source": [
    "度假酒店订单提前预定时间的直方图以及盒图如下所示"
   ]
  },
  {
   "cell_type": "code",
   "execution_count": 5,
   "metadata": {},
   "outputs": [
    {
     "data": {
      "image/png": "[encoded data removed]",
      "text/plain": [
       "<Figure size 432x288 with 1 Axes>"
      ]
     },
     "metadata": {
      "needs_background": "light"
     },
     "output_type": "display_data"
    },
    {
     "data": {
      "image/png": "[encoded data removed]",
      "text/plain": [
       "<Figure size 432x288 with 1 Axes>"
      ]
     },
     "metadata": {
      "needs_background": "light"
     },
     "output_type": "display_data"
    }
   ],
   "source": [
    "Resort_Hotel.hist(\"lead_time\",grid=False)\n",
    "plt.show()\n",
    "boxplot=Resort_Hotel[\"lead_time\"].to_frame().boxplot()\n",
    "plt.show()"
   ]
  },
  {
   "cell_type": "markdown",
   "metadata": {},
   "source": [
    "度假酒店提前预订时间的五数概括如下所示"
   ]
  },
  {
   "cell_type": "code",
   "execution_count": 7,
   "metadata": {},
   "outputs": [
    {
     "name": "stdout",
     "output_type": "stream",
     "text": [
      "Min:\t0\n",
      "Q1:\t10.0\n",
      "Median:\t57.0\n",
      "Q3:\t155.0\n",
      "Max:\t737\n"
     ]
    }
   ],
   "source": [
    "t_data=Resort_Hotel[\"lead_time\"]\n",
    "print(\"Min:\\t\"+str(np.nanmin(t_data)))\n",
    "print(\"Q1:\\t\"+str(np.nanpercentile(t_data,25)))\n",
    "print(\"Median:\\t\"+str(np.nanmedian(t_data)))\n",
    "print(\"Q3:\\t\"+str(np.nanpercentile(t_data,75)))\n",
    "print(\"Max:\\t\"+str(np.nanmax(t_data)))"
   ]
  },
  {
   "cell_type": "markdown",
   "metadata": {},
   "source": [
    "由直方图、盒图及五数概括结果可以看出度假酒店超过一半的订单都是预定60天内入住，时间最长的订单预定时间为737天。"
   ]
  },
  {
   "cell_type": "markdown",
   "metadata": {},
   "source": [
    "### 2.1.2城市酒店"
   ]
  },
  {
   "cell_type": "markdown",
   "metadata": {},
   "source": [
    "城市酒店订单提前预定时间的直方图以及盒图如下所示"
   ]
  },
  {
   "cell_type": "code",
   "execution_count": 8,
   "metadata": {},
   "outputs": [
    {
     "data": {
      "image/png": "[encoded data removed]",
      "text/plain": [
       "<Figure size 432x288 with 1 Axes>"
      ]
     },
     "metadata": {
      "needs_background": "light"
     },
     "output_type": "display_data"
    },
    {
     "data": {
      "image/png": "[encoded data removed]",
      "text/plain": [
       "<Figure size 432x288 with 1 Axes>"
      ]
     },
     "metadata": {
      "needs_background": "light"
     },
     "output_type": "display_data"
    }
   ],
   "source": [
    "City_Hotel.hist(\"lead_time\",grid=False)\n",
    "plt.show()\n",
    "boxplot=City_Hotel[\"lead_time\"].to_frame().boxplot()\n",
    "plt.show()"
   ]
  },
  {
   "cell_type": "markdown",
   "metadata": {},
   "source": [
    "城市酒店提前预订时间的五数概括如下所示"
   ]
  },
  {
   "cell_type": "code",
   "execution_count": 9,
   "metadata": {},
   "outputs": [
    {
     "name": "stdout",
     "output_type": "stream",
     "text": [
      "Min:\t0\n",
      "Q1:\t23.0\n",
      "Median:\t74.0\n",
      "Q3:\t163.0\n",
      "Max:\t629\n"
     ]
    }
   ],
   "source": [
    "t_data=City_Hotel[\"lead_time\"]\n",
    "print(\"Min:\\t\"+str(np.nanmin(t_data)))\n",
    "print(\"Q1:\\t\"+str(np.nanpercentile(t_data,25)))\n",
    "print(\"Median:\\t\"+str(np.nanmedian(t_data)))\n",
    "print(\"Q3:\\t\"+str(np.nanpercentile(t_data,75)))\n",
    "print(\"Max:\\t\"+str(np.nanmax(t_data)))"
   ]
  },
  {
   "cell_type": "markdown",
   "metadata": {},
   "source": [
    "由直方图、盒图及五数概括结果可以看出城市酒店超过一半的订单都是预定80天内入住，时间最长的订单预定时间为629天。"
   ]
  },
  {
   "cell_type": "markdown",
   "metadata": {},
   "source": [
    "### 2.1.3全部订单"
   ]
  },
  {
   "cell_type": "markdown",
   "metadata": {},
   "source": [
    "总订单订单提前预定时间的直方图以及盒图如下所示"
   ]
  },
  {
   "cell_type": "code",
   "execution_count": 10,
   "metadata": {},
   "outputs": [
    {
     "data": {
      "image/png": "[encoded data removed]",
      "text/plain": [
       "<Figure size 432x288 with 1 Axes>"
      ]
     },
     "metadata": {
      "needs_background": "light"
     },
     "output_type": "display_data"
    },
    {
     "data": {
      "image/png": "[encoded data removed]",
      "text/plain": [
       "<Figure size 432x288 with 1 Axes>"
      ]
     },
     "metadata": {
      "needs_background": "light"
     },
     "output_type": "display_data"
    }
   ],
   "source": [
    "data.hist(\"lead_time\",grid=False)\n",
    "plt.show()\n",
    "boxplot=data[\"lead_time\"].to_frame().boxplot()\n",
    "plt.show()"
   ]
  },
  {
   "cell_type": "markdown",
   "metadata": {},
   "source": [
    "总订单提前预订时间的五数概括如下所示"
   ]
  },
  {
   "cell_type": "code",
   "execution_count": 12,
   "metadata": {},
   "outputs": [
    {
     "name": "stdout",
     "output_type": "stream",
     "text": [
      "Min:\t0\n",
      "Q1:\t18.0\n",
      "Median:\t69.0\n",
      "Q3:\t160.0\n",
      "Max:\t737\n"
     ]
    }
   ],
   "source": [
    "t_data=data[\"lead_time\"]\n",
    "print(\"Min:\\t\"+str(np.nanmin(t_data)))\n",
    "print(\"Q1:\\t\"+str(np.nanpercentile(t_data,25)))\n",
    "print(\"Median:\\t\"+str(np.nanmedian(t_data)))\n",
    "print(\"Q3:\\t\"+str(np.nanpercentile(t_data,75)))\n",
    "print(\"Max:\\t\"+str(np.nanmax(t_data)))"
   ]
  },
  {
   "cell_type": "markdown",
   "metadata": {},
   "source": [
    "由直方图、盒图及五数概括结果可以看出超过一半的订单都是预定百天内入住，另外有6345个订单是预定当天即入住，时间最长的订单预定时间为737天。"
   ]
  },
  {
   "cell_type": "markdown",
   "metadata": {},
   "source": [
    "## 2.2入住时长统计"
   ]
  },
  {
   "cell_type": "markdown",
   "metadata": {},
   "source": [
    "### 2.2.1度假酒店"
   ]
  },
  {
   "cell_type": "markdown",
   "metadata": {},
   "source": [
    "度假酒店入住时长的直方图以及盒图如下所示"
   ]
  },
  {
   "cell_type": "code",
   "execution_count": 13,
   "metadata": {},
   "outputs": [
    {
     "data": {
      "image/png": "[encoded data removed]",
      "text/plain": [
       "<Figure size 432x288 with 1 Axes>"
      ]
     },
     "metadata": {
      "needs_background": "light"
     },
     "output_type": "display_data"
    },
    {
     "data": {
      "image/png": "[encoded data removed]",
      "text/plain": [
       "<Figure size 432x288 with 1 Axes>"
      ]
     },
     "metadata": {
      "needs_background": "light"
     },
     "output_type": "display_data"
    }
   ],
   "source": [
    "Resort_Hotel_stay=Resort_Hotel[\"stays_in_weekend_nights\"]+Resort_Hotel[\"stays_in_week_nights\"]\n",
    "Resort_Hotel_stay.hist(grid=False)\n",
    "plt.show()\n",
    "boxplot=Resort_Hotel_stay.to_frame().boxplot()\n",
    "plt.show()"
   ]
  },
  {
   "cell_type": "markdown",
   "metadata": {},
   "source": [
    "度假酒店入住时长的五数概括如下所示"
   ]
  },
  {
   "cell_type": "code",
   "execution_count": 14,
   "metadata": {},
   "outputs": [
    {
     "name": "stdout",
     "output_type": "stream",
     "text": [
      "Min:\t0\n",
      "Q1:\t2.0\n",
      "Median:\t3.0\n",
      "Q3:\t7.0\n",
      "Max:\t69\n"
     ]
    }
   ],
   "source": [
    "t_data=Resort_Hotel_stay\n",
    "print(\"Min:\\t\"+str(np.nanmin(t_data)))\n",
    "print(\"Q1:\\t\"+str(np.nanpercentile(t_data,25)))\n",
    "print(\"Median:\\t\"+str(np.nanmedian(t_data)))\n",
    "print(\"Q3:\\t\"+str(np.nanpercentile(t_data,75)))\n",
    "print(\"Max:\\t\"+str(np.nanmax(t_data)))"
   ]
  },
  {
   "cell_type": "markdown",
   "metadata": {},
   "source": [
    "由直方图、盒图及五数概括结果可以看出度假酒店超过一半的订单都是预定时长在3天内，入住时间最长的订单为69天。"
   ]
  },
  {
   "cell_type": "markdown",
   "metadata": {},
   "source": [
    "### 2.2.2城市酒店"
   ]
  },
  {
   "cell_type": "markdown",
   "metadata": {},
   "source": [
    "城市酒店入住时长的直方图以及盒图如下所示"
   ]
  },
  {
   "cell_type": "code",
   "execution_count": 15,
   "metadata": {},
   "outputs": [
    {
     "data": {
      "image/png": "[encoded data removed]",
      "text/plain": [
       "<Figure size 432x288 with 1 Axes>"
      ]
     },
     "metadata": {
      "needs_background": "light"
     },
     "output_type": "display_data"
    },
    {
     "data": {
      "image/png": "[encoded data removed]",
      "text/plain": [
       "<Figure size 432x288 with 1 Axes>"
      ]
     },
     "metadata": {
      "needs_background": "light"
     },
     "output_type": "display_data"
    }
   ],
   "source": [
    "City_Hotel_stay=City_Hotel[\"stays_in_weekend_nights\"]+City_Hotel[\"stays_in_week_nights\"]\n",
    "City_Hotel_stay.hist(grid=False)\n",
    "plt.show()\n",
    "boxplot=City_Hotel_stay.to_frame().boxplot()\n",
    "plt.show()"
   ]
  },
  {
   "cell_type": "markdown",
   "metadata": {},
   "source": [
    "城市酒店入住时长的五数概括如下所示"
   ]
  },
  {
   "cell_type": "code",
   "execution_count": 16,
   "metadata": {},
   "outputs": [
    {
     "name": "stdout",
     "output_type": "stream",
     "text": [
      "Min:\t0\n",
      "Q1:\t2.0\n",
      "Median:\t3.0\n",
      "Q3:\t4.0\n",
      "Max:\t57\n"
     ]
    }
   ],
   "source": [
    "t_data=City_Hotel_stay\n",
    "print(\"Min:\\t\"+str(np.nanmin(t_data)))\n",
    "print(\"Q1:\\t\"+str(np.nanpercentile(t_data,25)))\n",
    "print(\"Median:\\t\"+str(np.nanmedian(t_data)))\n",
    "print(\"Q3:\\t\"+str(np.nanpercentile(t_data,75)))\n",
    "print(\"Max:\\t\"+str(np.nanmax(t_data)))"
   ]
  },
  {
   "cell_type": "markdown",
   "metadata": {},
   "source": [
    "由直方图、盒图及五数概括结果可以看出城市酒店超过一半的订单都是预定时长在3天内，入住时间最长的订单为57天。"
   ]
  },
  {
   "cell_type": "markdown",
   "metadata": {},
   "source": [
    "### 2.2.3全部订单 "
   ]
  },
  {
   "cell_type": "markdown",
   "metadata": {},
   "source": [
    "总订单入住时长的直方图以及盒图如下所示"
   ]
  },
  {
   "cell_type": "code",
   "execution_count": 17,
   "metadata": {},
   "outputs": [
    {
     "data": {
      "image/png": "[encoded data removed]",
      "text/plain": [
       "<Figure size 432x288 with 1 Axes>"
      ]
     },
     "metadata": {
      "needs_background": "light"
     },
     "output_type": "display_data"
    },
    {
     "data": {
      "image/png": "[encoded data removed]",
      "text/plain": [
       "<Figure size 432x288 with 1 Axes>"
      ]
     },
     "metadata": {
      "needs_background": "light"
     },
     "output_type": "display_data"
    }
   ],
   "source": [
    "stay=data[\"stays_in_weekend_nights\"]+data[\"stays_in_week_nights\"]\n",
    "stay.hist(grid=False)\n",
    "plt.show()\n",
    "boxplot=stay.to_frame().boxplot()\n",
    "plt.show()"
   ]
  },
  {
   "cell_type": "markdown",
   "metadata": {},
   "source": [
    "总订单入住时长的五数概括如下所示"
   ]
  },
  {
   "cell_type": "code",
   "execution_count": 18,
   "metadata": {},
   "outputs": [
    {
     "name": "stdout",
     "output_type": "stream",
     "text": [
      "Min:\t0\n",
      "Q1:\t2.0\n",
      "Median:\t3.0\n",
      "Q3:\t4.0\n",
      "Max:\t69\n"
     ]
    }
   ],
   "source": [
    "t_data=stay\n",
    "print(\"Min:\\t\"+str(np.nanmin(t_data)))\n",
    "print(\"Q1:\\t\"+str(np.nanpercentile(t_data,25)))\n",
    "print(\"Median:\\t\"+str(np.nanmedian(t_data)))\n",
    "print(\"Q3:\\t\"+str(np.nanpercentile(t_data,75)))\n",
    "print(\"Max:\\t\"+str(np.nanmax(t_data)))"
   ]
  },
  {
   "cell_type": "markdown",
   "metadata": {},
   "source": [
    "由直方图、盒图及五数概括结果可以看出超过一半的订单都是预定时长在3天内，超过75%的订单预定时长在4天内，另外有21020个订单是预定入住时长为1晚上，入住时间最长的订单为69天。"
   ]
  },
  {
   "cell_type": "markdown",
   "metadata": {},
   "source": [
    "## 2.3预定间隔统计"
   ]
  },
  {
   "cell_type": "markdown",
   "metadata": {},
   "source": [
    "### 2.3.1度假酒店"
   ]
  },
  {
   "cell_type": "markdown",
   "metadata": {},
   "source": [
    "度假酒店预定确认间隔的直方图以及盒图如下所示"
   ]
  },
  {
   "cell_type": "code",
   "execution_count": 19,
   "metadata": {},
   "outputs": [
    {
     "data": {
      "image/png": "[encoded data removed]",
      "text/plain": [
       "<Figure size 432x288 with 1 Axes>"
      ]
     },
     "metadata": {
      "needs_background": "light"
     },
     "output_type": "display_data"
    },
    {
     "data": {
      "image/png": "[encoded data removed]",
      "text/plain": [
       "<Figure size 432x288 with 1 Axes>"
      ]
     },
     "metadata": {
      "needs_background": "light"
     },
     "output_type": "display_data"
    }
   ],
   "source": [
    "Resort_Hotel[\"days_in_waiting_list\"].hist(grid=False)\n",
    "plt.show()\n",
    "boxplot=Resort_Hotel[\"days_in_waiting_list\"].to_frame().boxplot()\n",
    "plt.show()"
   ]
  },
  {
   "cell_type": "markdown",
   "metadata": {},
   "source": [
    "度假酒店预定确认间隔的五数概括如下所示"
   ]
  },
  {
   "cell_type": "code",
   "execution_count": 20,
   "metadata": {},
   "outputs": [
    {
     "name": "stdout",
     "output_type": "stream",
     "text": [
      "Min:\t0\n",
      "Q1:\t0.0\n",
      "Median:\t0.0\n",
      "Q3:\t0.0\n",
      "Max:\t185\n"
     ]
    }
   ],
   "source": [
    "t_data=Resort_Hotel[\"days_in_waiting_list\"]\n",
    "print(\"Min:\\t\"+str(np.nanmin(t_data)))\n",
    "print(\"Q1:\\t\"+str(np.nanpercentile(t_data,25)))\n",
    "print(\"Median:\\t\"+str(np.nanmedian(t_data)))\n",
    "print(\"Q3:\\t\"+str(np.nanpercentile(t_data,75)))\n",
    "print(\"Max:\\t\"+str(np.nanmax(t_data)))"
   ]
  },
  {
   "cell_type": "markdown",
   "metadata": {},
   "source": [
    "由直方图、盒图及五数概括结果可以看出度假酒店超过75%的订单都是在预定当天进行确认的，最长预定确认间隔为185天。"
   ]
  },
  {
   "cell_type": "markdown",
   "metadata": {},
   "source": [
    "### 2.3.2城市酒店"
   ]
  },
  {
   "cell_type": "markdown",
   "metadata": {},
   "source": [
    "城市酒店预定确认间隔的直方图以及盒图如下所示"
   ]
  },
  {
   "cell_type": "code",
   "execution_count": 21,
   "metadata": {},
   "outputs": [
    {
     "data": {
      "image/png": "[encoded data removed]",
      "text/plain": [
       "<Figure size 432x288 with 1 Axes>"
      ]
     },
     "metadata": {
      "needs_background": "light"
     },
     "output_type": "display_data"
    },
    {
     "data": {
      "image/png": "[encoded data removed]",
      "text/plain": [
       "<Figure size 432x288 with 1 Axes>"
      ]
     },
     "metadata": {
      "needs_background": "light"
     },
     "output_type": "display_data"
    }
   ],
   "source": [
    "City_Hotel[\"days_in_waiting_list\"].hist(grid=False)\n",
    "plt.show()\n",
    "boxplot=City_Hotel[\"days_in_waiting_list\"].to_frame().boxplot()\n",
    "plt.show()"
   ]
  },
  {
   "cell_type": "markdown",
   "metadata": {},
   "source": [
    "城市酒店预定确认间隔的五数概括如下所示："
   ]
  },
  {
   "cell_type": "code",
   "execution_count": 22,
   "metadata": {},
   "outputs": [
    {
     "name": "stdout",
     "output_type": "stream",
     "text": [
      "Min:\t0\n",
      "Q1:\t0.0\n",
      "Median:\t0.0\n",
      "Q3:\t0.0\n",
      "Max:\t391\n"
     ]
    }
   ],
   "source": [
    "t_data=City_Hotel[\"days_in_waiting_list\"]\n",
    "print(\"Min:\\t\"+str(np.nanmin(t_data)))\n",
    "print(\"Q1:\\t\"+str(np.nanpercentile(t_data,25)))\n",
    "print(\"Median:\\t\"+str(np.nanmedian(t_data)))\n",
    "print(\"Q3:\\t\"+str(np.nanpercentile(t_data,75)))\n",
    "print(\"Max:\\t\"+str(np.nanmax(t_data)))"
   ]
  },
  {
   "cell_type": "markdown",
   "metadata": {},
   "source": [
    "由直方图、盒图及五数概括结果可以看出城市酒店超过75%的订单都是在预定当天进行确认的，最长预定确认间隔为391天。"
   ]
  },
  {
   "cell_type": "markdown",
   "metadata": {},
   "source": [
    "### 2.3.3全部订单"
   ]
  },
  {
   "cell_type": "markdown",
   "metadata": {},
   "source": [
    "总订单预定确认间隔的直方图以及盒图如下所示："
   ]
  },
  {
   "cell_type": "code",
   "execution_count": 23,
   "metadata": {},
   "outputs": [
    {
     "data": {
      "image/png": "[encoded data removed]",
      "text/plain": [
       "<Figure size 432x288 with 1 Axes>"
      ]
     },
     "metadata": {
      "needs_background": "light"
     },
     "output_type": "display_data"
    },
    {
     "data": {
      "image/png": "[encoded data removed]",
      "text/plain": [
       "<Figure size 432x288 with 1 Axes>"
      ]
     },
     "metadata": {
      "needs_background": "light"
     },
     "output_type": "display_data"
    }
   ],
   "source": [
    "data[\"days_in_waiting_list\"].hist(grid=False)\n",
    "plt.show()\n",
    "boxplot=data[\"days_in_waiting_list\"].to_frame().boxplot()\n",
    "plt.show()"
   ]
  },
  {
   "cell_type": "markdown",
   "metadata": {},
   "source": [
    "总订单预定确认间隔的五数概括如下所示"
   ]
  },
  {
   "cell_type": "code",
   "execution_count": 24,
   "metadata": {},
   "outputs": [
    {
     "name": "stdout",
     "output_type": "stream",
     "text": [
      "Min:\t0\n",
      "Q1:\t0.0\n",
      "Median:\t0.0\n",
      "Q3:\t0.0\n",
      "Max:\t391\n"
     ]
    }
   ],
   "source": [
    "t_data=data[\"days_in_waiting_list\"]\n",
    "print(\"Min:\\t\"+str(np.nanmin(t_data)))\n",
    "print(\"Q1:\\t\"+str(np.nanpercentile(t_data,25)))\n",
    "print(\"Median:\\t\"+str(np.nanmedian(t_data)))\n",
    "print(\"Q3:\\t\"+str(np.nanpercentile(t_data,75)))\n",
    "print(\"Max:\\t\"+str(np.nanmax(t_data)))"
   ]
  },
  {
   "cell_type": "markdown",
   "metadata": {},
   "source": [
    "由直方图、盒图及五数概括结果可以看出超过75%的订单都是在预定当天进行确认的，最长预定确认间隔为391天。"
   ]
  },
  {
   "cell_type": "markdown",
   "metadata": {},
   "source": [
    "## 2.4餐食预订情况统计 "
   ]
  },
  {
   "cell_type": "markdown",
   "metadata": {},
   "source": [
    "总订单餐食预定情况如下所示："
   ]
  },
  {
   "cell_type": "code",
   "execution_count": 25,
   "metadata": {},
   "outputs": [
    {
     "data": {
      "image/png": "[encoded data removed]",
      "text/plain": [
       "<Figure size 432x288 with 1 Axes>"
      ]
     },
     "metadata": {
      "needs_background": "light"
     },
     "output_type": "display_data"
    },
    {
     "name": "stdout",
     "output_type": "stream",
     "text": [
      "无餐食预定订单数量为11819个;\n",
      "预定早餐订单为92310个;\n",
      "预定早餐加午餐订单为14463个;\n",
      "预定全餐食订单为798个。\n"
     ]
    }
   ],
   "source": [
    "data['meal'].value_counts().plot.bar()\n",
    "plt.show()\n",
    "print(\"无餐食预定订单数量为\"+str(len(data[data['meal'].isin([\"Undefined\"])])+len(data[data['meal'].isin([\"SC\"])]))+\"个;\")\n",
    "print(\"预定早餐订单为\"+str(len(data[data['meal'].isin([\"BB\"])]))+\"个;\")\n",
    "print(\"预定早餐加午餐订单为\"+str(len(data[data['meal'].isin([\"HB\"])]))+\"个;\")\n",
    "print(\"预定全餐食订单为\"+str(len(data[data['meal'].isin([\"FB\"])]))+\"个。\")"
   ]
  },
  {
   "cell_type": "markdown",
   "metadata": {},
   "source": [
    "由统计结果可以看出大部分订单都预定了早餐。"
   ]
  },
  {
   "cell_type": "markdown",
   "metadata": {},
   "source": [
    "# 3.一年中最佳预订酒店时间；"
   ]
  },
  {
   "cell_type": "markdown",
   "metadata": {},
   "source": [
    "## 3.1度假酒店"
   ]
  },
  {
   "cell_type": "markdown",
   "metadata": {},
   "source": [
    "筛选出度假酒店每月订单数量如下所示："
   ]
  },
  {
   "cell_type": "code",
   "execution_count": 26,
   "metadata": {},
   "outputs": [
    {
     "data": {
      "image/png": "[encoded data removed]",
      "text/plain": [
       "<Figure size 432x288 with 1 Axes>"
      ]
     },
     "metadata": {
      "needs_background": "light"
     },
     "output_type": "display_data"
    }
   ],
   "source": [
    "Resort_Hotel['arrival_date_month'].value_counts().plot.bar()\n",
    "plt.show()"
   ]
  },
  {
   "cell_type": "markdown",
   "metadata": {},
   "source": [
    "由柱状图可以看出度假酒店8月份的预订数量最多，筛选出8月份度假酒店每天的订单数量如下所示："
   ]
  },
  {
   "cell_type": "code",
   "execution_count": 27,
   "metadata": {},
   "outputs": [
    {
     "data": {
      "image/png": "[encoded data removed]",
      "text/plain": [
       "<Figure size 432x288 with 1 Axes>"
      ]
     },
     "metadata": {
      "needs_background": "light"
     },
     "output_type": "display_data"
    }
   ],
   "source": [
    "Resort_Hotel[Resort_Hotel['arrival_date_month'].isin([\"August\"])]['arrival_date_day_of_month'].value_counts().plot.bar()\n",
    "plt.show()"
   ]
  },
  {
   "cell_type": "markdown",
   "metadata": {},
   "source": [
    "由柱状图可以看出度假酒店每年8月1日的预订数量最多，即该天为度假酒店最佳入住时间。"
   ]
  },
  {
   "cell_type": "markdown",
   "metadata": {},
   "source": [
    "筛选出8月1日入住度假酒店，并且预订确认间隔为当天且预订房型与实际房型一致的订单。"
   ]
  },
  {
   "cell_type": "code",
   "execution_count": 28,
   "metadata": {},
   "outputs": [
    {
     "name": "stdout",
     "output_type": "stream",
     "text": [
      "提前180天预订。\n"
     ]
    }
   ],
   "source": [
    "august=Resort_Hotel[Resort_Hotel['arrival_date_month'].isin([\"August\"])]\n",
    "august_1st=august[august['arrival_date_day_of_month'].isin([1])]\n",
    "august_1st_0=august_1st[august_1st['days_in_waiting_list'].isin([0])]\n",
    "august_1st_0_same=august_1st_0[august_1st_0['reserved_room_type']==august_1st_0['assigned_room_type']]\n",
    "print(\"提前\"+str(august_1st_0_same['lead_time'].mode()[0])+\"天预订。\")"
   ]
  },
  {
   "cell_type": "markdown",
   "metadata": {},
   "source": [
    "预订度假酒店的最佳方案为提前180天预订8月1日的酒店。"
   ]
  },
  {
   "cell_type": "markdown",
   "metadata": {},
   "source": [
    "## 3.2城市酒店"
   ]
  },
  {
   "cell_type": "markdown",
   "metadata": {},
   "source": [
    "筛选出城市酒店每月订单数量如下所示："
   ]
  },
  {
   "cell_type": "code",
   "execution_count": 29,
   "metadata": {},
   "outputs": [
    {
     "data": {
      "image/png": "[encoded data removed]",
      "text/plain": [
       "<Figure size 432x288 with 1 Axes>"
      ]
     },
     "metadata": {
      "needs_background": "light"
     },
     "output_type": "display_data"
    }
   ],
   "source": [
    "City_Hotel['arrival_date_month'].value_counts().plot.bar()\n",
    "plt.show()"
   ]
  },
  {
   "cell_type": "markdown",
   "metadata": {},
   "source": [
    "由柱状图可以看出城市酒店8月份的预订数量最多，筛选出8月份城市酒店每天的订单数量如下所示："
   ]
  },
  {
   "cell_type": "code",
   "execution_count": 30,
   "metadata": {},
   "outputs": [
    {
     "data": {
      "image/png": "[encoded data removed]",
      "text/plain": [
       "<Figure size 432x288 with 1 Axes>"
      ]
     },
     "metadata": {
      "needs_background": "light"
     },
     "output_type": "display_data"
    }
   ],
   "source": [
    "City_Hotel[City_Hotel['arrival_date_month'].isin([\"August\"])]['arrival_date_day_of_month'].value_counts().plot.bar()\n",
    "plt.show()"
   ]
  },
  {
   "cell_type": "markdown",
   "metadata": {},
   "source": [
    "由柱状图可以看出度城市店每年8月14日的预订数量最多，即该天为城市酒店最佳入住时间。"
   ]
  },
  {
   "cell_type": "markdown",
   "metadata": {},
   "source": [
    "筛选出8月14日入住城市酒店，并且预订确认间隔为当天且预订房型与实际房型一致的订单。"
   ]
  },
  {
   "cell_type": "code",
   "execution_count": 31,
   "metadata": {},
   "outputs": [
    {
     "name": "stdout",
     "output_type": "stream",
     "text": [
      "提前117天预订。\n"
     ]
    }
   ],
   "source": [
    "august=City_Hotel[City_Hotel['arrival_date_month'].isin([\"August\"])]\n",
    "august_14=august[august['arrival_date_day_of_month'].isin([1])]\n",
    "august_14_0=august_14[august_14['days_in_waiting_list'].isin([0])]\n",
    "august_14_0_same=august_14_0[august_14_0['reserved_room_type']==august_14_0['assigned_room_type']]\n",
    "print(\"提前\"+str(august_14_0_same['lead_time'].mode()[0])+\"天预订。\")"
   ]
  },
  {
   "cell_type": "markdown",
   "metadata": {},
   "source": [
    "预订城市酒店的最佳方案为提前117天预订8月14日的酒店。"
   ]
  },
  {
   "cell_type": "markdown",
   "metadata": {},
   "source": [
    "# 4.利用Logistic预测酒店预订。"
   ]
  },
  {
   "cell_type": "markdown",
   "metadata": {},
   "source": [
    "筛选出部分特征作为模型数据，并分为数值特征和分类特征两类，如下所示。"
   ]
  },
  {
   "cell_type": "code",
   "execution_count": 32,
   "metadata": {},
   "outputs": [],
   "source": [
    "num_features = [\"lead_time\",\"arrival_date_week_number\",\"arrival_date_day_of_month\",\n",
    "                \"stays_in_weekend_nights\",\"stays_in_week_nights\",\"adults\",\n",
    "                \"babies\",\"is_repeated_guest\", \"previous_cancellations\",\n",
    "                \"previous_bookings_not_canceled\",\n",
    "                \"required_car_parking_spaces\", \"total_of_special_requests\", \"adr\"]\n",
    "\n",
    "cat_features = [\"hotel\",\"arrival_date_month\",\"meal\",\"market_segment\",\n",
    "                \"distribution_channel\",\"reserved_room_type\",\"deposit_type\",\"customer_type\"]"
   ]
  },
  {
   "cell_type": "markdown",
   "metadata": {},
   "source": [
    "将分类特征值转为one-hot形式从而可以参与训练"
   ]
  },
  {
   "cell_type": "code",
   "execution_count": 33,
   "metadata": {},
   "outputs": [],
   "source": [
    "ncat_features=[]\n",
    "for i in cat_features:\n",
    "    encoder = LabelEncoder()  \n",
    "    temp = encoder.fit_transform(data[i].values)  \n",
    "    temp = np.array([temp]).T\n",
    "    enc = OneHotEncoder(categories='auto')\n",
    "    temp=enc.fit_transform(temp)\n",
    "    temp=temp.toarray()\n",
    "    t=[]\n",
    "    for j in range(len(temp[0])):\n",
    "        ncat_features.append(i+str(j+1))\n",
    "        t.append(i+str(j+1))\n",
    "    temp=pd.DataFrame(temp,columns=t)\n",
    "    data = pd.concat([data,pd.DataFrame(temp)],axis=1)\n",
    "    data = data.drop(i,axis=1)"
   ]
  },
  {
   "cell_type": "markdown",
   "metadata": {},
   "source": [
    "将数据集随机打乱并取前80%作为训练集，后20%作为测试集进行训练。"
   ]
  },
  {
   "cell_type": "code",
   "execution_count": 44,
   "metadata": {},
   "outputs": [
    {
     "name": "stderr",
     "output_type": "stream",
     "text": [
      "D:\\ana\\lib\\site-packages\\sklearn\\linear_model\\logistic.py:432: FutureWarning: Default solver will be changed to 'lbfgs' in 0.22. Specify a solver to silence this warning.\n",
      "  FutureWarning)\n"
     ]
    },
    {
     "data": {
      "text/plain": [
       "LogisticRegression(C=1.0, class_weight=None, dual=False, fit_intercept=True,\n",
       "                   intercept_scaling=1, l1_ratio=None, max_iter=100,\n",
       "                   multi_class='warn', n_jobs=None, penalty='l2',\n",
       "                   random_state=None, solver='warn', tol=0.0001, verbose=0,\n",
       "                   warm_start=False)"
      ]
     },
     "execution_count": 44,
     "metadata": {},
     "output_type": "execute_result"
    }
   ],
   "source": [
    "scale=0.8\n",
    "data = data.reindex(np.random.permutation(data.index))\n",
    "train_x=data.drop([\"is_canceled\"], axis=1)[num_features+ncat_features][:int(len(data)*scale)]\n",
    "train_y=data[\"is_canceled\"][:int(len(data)*scale)]\n",
    "test_x=data.drop([\"is_canceled\"], axis=1)[num_features+ncat_features][int(len(data)*scale)+1:]\n",
    "test_y=data[\"is_canceled\"][int(len(data)*scale)+1:]\n",
    "modelLR=LogisticRegression()\n",
    "modelLR.fit(train_x,train_y)"
   ]
  },
  {
   "cell_type": "markdown",
   "metadata": {},
   "source": [
    "在测试集上进行模型测试"
   ]
  },
  {
   "cell_type": "code",
   "execution_count": 45,
   "metadata": {},
   "outputs": [
    {
     "data": {
      "text/plain": [
       "0.8132512459689241"
      ]
     },
     "execution_count": 45,
     "metadata": {},
     "output_type": "execute_result"
    }
   ],
   "source": [
    "modelLR.score(test_x,test_y)"
   ]
  },
  {
   "cell_type": "markdown",
   "metadata": {},
   "source": [
    "最终模型在测试集上准确率能够达到81.33%，也就是对于测试集中数据给定特征能够有八成几率预测出该订单是否会被取消。"
   ]
  }
 ],
 "metadata": {
  "kernelspec": {
   "display_name": "Python 3",
   "language": "python",
   "name": "python3"
  },
  "language_info": {
   "codemirror_mode": {
    "name": "ipython",
    "version": 3
   },
   "file_extension": ".py",
   "mimetype": "text/x-python",
   "name": "python",
   "nbconvert_exporter": "python",
   "pygments_lexer": "ipython3",
   "version": "3.7.3"
  }
 },
 "nbformat": 4,
 "nbformat_minor": 2
}
